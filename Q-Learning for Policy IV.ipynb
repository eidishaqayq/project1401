{
 "cells": [
  {
   "cell_type": "markdown",
   "metadata": {},
   "source": [
    "# Q_Learning for Policy IV"
   ]
  },
  {
   "cell_type": "code",
   "execution_count": 1,
   "metadata": {},
   "outputs": [],
   "source": [
    "import numpy as np\n",
    "import random\n",
    "from random import sample\n",
    "import math \n",
    "import matplotlib.pyplot as plt\n",
    "import pandas as pd"
   ]
  },
  {
   "cell_type": "code",
   "execution_count": 2,
   "metadata": {},
   "outputs": [],
   "source": [
    "def reset():\n",
    "    st= [0]*16\n",
    "    return tuple(st)"
   ]
  },
  {
   "cell_type": "code",
   "execution_count": 3,
   "metadata": {},
   "outputs": [],
   "source": [
    "weibull_scale=(2365.08,996.88,713.55,1406.84,343.76,3933.12,828.19,2040.95)\n",
    "weibull_shape=(414.16,109.25,79.81,115.21,169.81,143.60,43.83,296.48)\n",
    "tf=(2,6.5,2.5,6,5,3.5,3,3.5)\n",
    "tp=(0.4,5.42,0.625,0.857,1.25,0.7,0.429,0.875)\n",
    "time_interval=5\n",
    "running_time=100000"
   ]
  },
  {
   "cell_type": "code",
   "execution_count": 4,
   "metadata": {},
   "outputs": [],
   "source": [
    "fi = [[0,2],[2,7],[2,4],[6,5],[3,1]]"
   ]
  },
  {
   "cell_type": "code",
   "execution_count": 5,
   "metadata": {},
   "outputs": [],
   "source": [
    "def member(i , fi):\n",
    "    mem=[]\n",
    "    if i in fi[0]:\n",
    "        if i !=fi[0][0]:\n",
    "            mem.append(fi[0][0])\n",
    "        if i !=fi[0][1]:\n",
    "            mem.append(fi[0][1])\n",
    "        \n",
    "    if i in fi[1]:\n",
    "        if i !=fi[1][0]:\n",
    "            mem.append(fi[1][0])\n",
    "        if i !=fi[1][1]:\n",
    "            mem.append(fi[1][1])\n",
    "        \n",
    "    if i in fi[2]:\n",
    "        if i !=fi[2][0]:\n",
    "            mem.append(fi[2][0])\n",
    "        if i !=fi[2][1]:\n",
    "            mem.append(fi[2][1])\n",
    "    \n",
    "    if i in fi[3]:\n",
    "        if i !=fi[3][0]:\n",
    "            mem.append(fi[3][0])\n",
    "        if i !=fi[3][1]:\n",
    "            mem.append(fi[3][1])\n",
    "    \n",
    "    if i in fi[4]:\n",
    "        if i !=fi[4][0]:\n",
    "            mem.append(fi[4][0])\n",
    "        if i !=fi[4][1]:\n",
    "            mem.append(fi[4][1])\n",
    "    \n",
    "    return mem\n",
    "    "
   ]
  },
  {
   "cell_type": "code",
   "execution_count": 6,
   "metadata": {},
   "outputs": [],
   "source": [
    "def CountFrequency(my_list):\n",
    " \n",
    "    # Creating an empty dictionary\n",
    "    freq = {}\n",
    "    for item in my_list:\n",
    "        if (item in freq):\n",
    "            freq[item] += 1\n",
    "        else:\n",
    "            freq[item] = 1\n",
    " \n",
    "    for key, value in freq.items():\n",
    "        print (\"% d : % d\"%(key, value))\n",
    " "
   ]
  },
  {
   "cell_type": "code",
   "execution_count": 7,
   "metadata": {},
   "outputs": [],
   "source": [
    "def env(action,st):\n",
    "    reward = np.zeros(8)\n",
    "    failure_time = np.zeros(8)\n",
    "    \n",
    "    for a in range(8):\n",
    "        if (action[a] == 1):\n",
    "            for j in range(len(member(a,fi))):\n",
    "                action[member(a,fi)[j]] = 1\n",
    "                \n",
    "            \n",
    "        failure_time[a] = random.weibullvariate(weibull_scale[a],weibull_shape[a])\n",
    "\n",
    "        if failure_time[a] <= st[a]: # fail\n",
    "            st[a+8]=1\n",
    "\n",
    "            tpi = 0 \n",
    "            for j in range(len(member(a,fi))):\n",
    "                tpi+=tp[member(a,fi)[j]]\n",
    "\n",
    "            tfi = 0\n",
    "            for j in range(len(member(a,fi))):\n",
    "                tfi+=tf[member(a,fi)[j]]\n",
    "\n",
    "            reward[a] =- (time_interval/(0.8*time_interval*sum((tpi,tp[a]))))*time_interval*math.ceil(0.8*sum((tfi,tf[a]))/time_interval)\n",
    "\n",
    "            \n",
    "        else :\n",
    "            #st[a+8]=0\n",
    "            st[a] +=5\n",
    "            reward[a] = 5\n",
    "            \n",
    "            \n",
    "        if action[a]==1:            \n",
    "            if (st[a+8]==0):\n",
    "                tpi = 0 \n",
    "                for j in range(len(member(a,fi))):\n",
    "                    tpi+=tp[member(a,fi)[j]]\n",
    "                reward[a] = - (time_interval/(0.8*time_interval*sum((tpi,tp[a]))))*0.8*sum((tpi,tp[a]))\n",
    "            \n",
    "            if (st[a+8]==1):\n",
    "                tpi = 0 \n",
    "                for j in range(len(member(a,fi))):\n",
    "                    tpi+=tp[member(a,fi)[j]]\n",
    "\n",
    "                tfi = 0\n",
    "                for j in range(len(member(a,fi))):\n",
    "                    tfi+=tf[member(a,fi)[j]]\n",
    "\n",
    "                reward[a] =- (time_interval/(0.8*time_interval*sum((tpi,tp[a]))))*time_interval*math.ceil(0.8*sum((tfi,tf[a]))/time_interval)\n",
    "\n",
    "                \n",
    "            st[a]=0\n",
    "            st[a+8]=0  \n",
    "\n",
    "    \n",
    "    return (tuple(st) , reward)\n",
    "        "
   ]
  },
  {
   "cell_type": "code",
   "execution_count": 8,
   "metadata": {},
   "outputs": [],
   "source": [
    "def choose_action(epsilon, state):\n",
    "    action = np.zeros(8)\n",
    "    \n",
    "    for i in range(8):\n",
    "        if state[i+8]==1:\n",
    "            action[i] = 1\n",
    "        \n",
    "        else: \n",
    "            if (np.random.random() < epsilon):\n",
    "                action[i] = random.choice([0,1]) \n",
    "            else:\n",
    "                st = (state[i],state[i+8])\n",
    "                if i == 0:\n",
    "                    action[i]= np.argmax(Q_table_tire[st])\n",
    "                if i== 1:\n",
    "                    action[i]= np.argmax(Q_table_transmission[st])\n",
    "                if i == 2:\n",
    "                    action[i]= np.argmax(Q_table_wheel[st])\n",
    "                if i == 3:\n",
    "                    action[i]= np.argmax(Q_table_coupling[st])\n",
    "                if i == 4:\n",
    "                    action[i]= np.argmax(Q_table_motor[st])\n",
    "                if i == 5:\n",
    "                    action[i]= np.argmax(Q_table_brake[st])\n",
    "                if i == 6:\n",
    "                    action[i]= np.argmax(Q_table_steering[st])\n",
    "                if i == 7:\n",
    "                    action[i]= np.argmax(Q_table_gears[st])\n",
    "    return action    \n",
    "    "
   ]
  },
  {
   "cell_type": "code",
   "execution_count": 9,
   "metadata": {},
   "outputs": [],
   "source": [
    "Q_table_tire = np.zeros((100000 ,2) + (2,))\n",
    "Q_table_transmission = np.zeros((100000 ,2) + (2,))\n",
    "Q_table_wheel = np.zeros((100000 ,2) + (2,))\n",
    "Q_table_coupling = np.zeros((100000 ,2) + (2,))\n",
    "Q_table_motor = np.zeros((100000 ,2) + (2,))\n",
    "Q_table_brake = np.zeros((100000 ,2) + (2,))\n",
    "Q_table_steering = np.zeros((100000 ,2) + (2,))\n",
    "Q_table_gears = np.zeros((100000 ,2) + (2,))"
   ]
  },
  {
   "cell_type": "code",
   "execution_count": 10,
   "metadata": {},
   "outputs": [],
   "source": [
    "num_episodes=1000\n",
    "min_lr=0.1 \n",
    "discount=0.50\n",
    "decay=25"
   ]
  },
  {
   "cell_type": "code",
   "execution_count": 11,
   "metadata": {},
   "outputs": [],
   "source": [
    "def get_learning_rate( t):\n",
    "    \n",
    "    \"\"\"Gets value for learning rate. It declines as we advance in episodes.\"\"\"\n",
    "    # Learning rate also declines as we add more episodes\n",
    "    return max(min_lr, min(1., 1. - math.log10((t + 1) / decay)))\n"
   ]
  },
  {
   "cell_type": "markdown",
   "metadata": {},
   "source": [
    "# transmission and coupling"
   ]
  },
  {
   "cell_type": "code",
   "execution_count": 12,
   "metadata": {},
   "outputs": [],
   "source": [
    "scores_tra = []\n",
    "scores_cou = []\n",
    "\n",
    "# Looping for each episode\n",
    "for e in range(500):\n",
    "    # Initializes the state\n",
    "    current_state = reset()\n",
    "    rewards_tra = []\n",
    "    rewards_cou = []\n",
    "    learning_rate = get_learning_rate(e)\n",
    "    epsilon = 1/(e +1) \n",
    "    \n",
    "    # Looping for each step\n",
    "    for j in range(running_time//time_interval):\n",
    "        # Choose A from S\n",
    "        action = choose_action(epsilon,current_state)\n",
    "        # Take action\n",
    "        obs , reward = env(action , list(current_state))\n",
    "        rewards_tra.append(reward[1]) \n",
    "        rewards_cou.append(reward[3]) \n",
    "        new_state = obs\n",
    "        \n",
    "        current_state1 = (current_state[1],current_state[1+8])\n",
    "        new_state1 = (new_state[1],new_state[1+8])\n",
    "        # Update Q(S,A)\n",
    "        Q_table_transmission[current_state1][int(action[1])] += (learning_rate * \n",
    "                                        (reward[1] \n",
    "                                         + discount * np.max(Q_table_transmission[new_state1]) \n",
    "                                         - Q_table_transmission[current_state1][int(action[1])]))\n",
    "        \n",
    "        current_state3 = (current_state[3],current_state[3+8])\n",
    "        new_state3 = (new_state[3],new_state[3+8])\n",
    "        # Update Q(S,A)\n",
    "        Q_table_coupling[current_state3][int(action[3])] += (learning_rate * \n",
    "                                        (reward[3] \n",
    "                                         + discount * np.max(Q_table_coupling[new_state3]) \n",
    "                                         - Q_table_coupling[current_state3][int(action[3])]))\n",
    "        \n",
    "        \n",
    "        current_state = new_state\n",
    "       \n",
    "    scores_tra.append(sum(rewards_tra))\n",
    "    scores_cou.append(sum(rewards_cou))\n"
   ]
  },
  {
   "cell_type": "code",
   "execution_count": 13,
   "metadata": {},
   "outputs": [
    {
     "data": {
      "image/png": "[encoded data removed]",
      "text/plain": [
       "<Figure size 432x288 with 1 Axes>"
      ]
     },
     "metadata": {
      "needs_background": "light"
     },
     "output_type": "display_data"
    }
   ],
   "source": [
    "import matplotlib.pyplot as plt\n",
    "# Plot the policy performance\n",
    "fig = plt.figure()\n",
    "ax = fig.add_subplot(111)\n",
    "x = np.arange(1, len(scores_tra) + 1)\n",
    "y = scores_tra\n",
    "plt.scatter(x, y, marker='x', c=y)\n",
    "fit = np.polyfit(x, y, deg=4)\n",
    "p = np.poly1d(fit) \n",
    "plt.plot(x,p(x),\"r--\") \n",
    "plt.ylabel('Score')\n",
    "plt.xlabel('Episode #')\n",
    "plt.title(' performance for transmission ')\n",
    "plt.show()"
   ]
  },
  {
   "cell_type": "code",
   "execution_count": 14,
   "metadata": {},
   "outputs": [
    {
     "data": {
      "image/png": "[encoded data removed]",
      "text/plain": [
       "<Figure size 432x288 with 1 Axes>"
      ]
     },
     "metadata": {
      "needs_background": "light"
     },
     "output_type": "display_data"
    }
   ],
   "source": [
    "import matplotlib.pyplot as plt\n",
    "# Plot the policy performance\n",
    "fig = plt.figure()\n",
    "ax = fig.add_subplot(111)\n",
    "x = np.arange(1, len(scores_cou) + 1)\n",
    "y = scores_cou\n",
    "plt.scatter(x, y, marker='x', c=y)\n",
    "fit = np.polyfit(x, y, deg=4)\n",
    "p = np.poly1d(fit) \n",
    "plt.plot(x,p(x),\"r--\") \n",
    "plt.ylabel('Score')\n",
    "plt.xlabel('Episode #')\n",
    "plt.title(' performance for coupling ')\n",
    "plt.show()"
   ]
  },
  {
   "cell_type": "code",
   "execution_count": 14,
   "metadata": {},
   "outputs": [],
   "source": [
    "def ac (current_state):\n",
    "    action = np.zeros(8)\n",
    "    action[1] = np.argmax(Q_table_transmission[(current_state[1],current_state[1+8])])\n",
    "    action[3] = np.argmax(Q_table_coupling[(current_state[3],current_state[3+8])])\n",
    "    return action"
   ]
  },
  {
   "cell_type": "code",
   "execution_count": 15,
   "metadata": {},
   "outputs": [
    {
     "name": "stdout",
     "output_type": "stream",
     "text": [
      " 985 :  182\n",
      " 975 :  11\n",
      " 965 :  8\n",
      " 970 :  14\n",
      " 980 :  32\n",
      " 945 :  1\n",
      " 950 :  1\n",
      " 960 :  1\n",
      " 955 :  2\n",
      " 940 :  1\n"
     ]
    }
   ],
   "source": [
    "#transmission\n",
    "time_replace = []\n",
    "current_state = reset()\n",
    "action = np.zeros(8)\n",
    "for j in range(50000):\n",
    "    action[[1,3]] = max(ac(current_state)[[1,3]])\n",
    "    if action[1] ==1:\n",
    "        time_replace.append(current_state[1])\n",
    "    obs , r = env(action,list(current_state))\n",
    "    current_state = obs\n",
    "CountFrequency(time_replace)"
   ]
  },
  {
   "cell_type": "code",
   "execution_count": 16,
   "metadata": {},
   "outputs": [
    {
     "name": "stdout",
     "output_type": "stream",
     "text": [
      " 985 :  211\n",
      " 980 :  18\n",
      " 965 :  5\n",
      " 975 :  10\n",
      " 970 :  5\n",
      " 955 :  3\n",
      " 960 :  1\n"
     ]
    }
   ],
   "source": [
    "#coupling\n",
    "time_replace = []\n",
    "current_state = reset()\n",
    "action = np.zeros(8)\n",
    "for j in range(50000):\n",
    "    action[[1,3]] = max(ac(current_state)[[1,3]])\n",
    "    if action[3] ==1:\n",
    "        time_replace.append(current_state[3])\n",
    "    obs , r = env(action,list(current_state))\n",
    "    #print (current_state[5] ,action[5],r[5],obs[5] )\n",
    "    current_state = obs\n",
    "CountFrequency(time_replace)"
   ]
  },
  {
   "cell_type": "markdown",
   "metadata": {},
   "source": [
    "# brake and sterring wheel"
   ]
  },
  {
   "cell_type": "code",
   "execution_count": 15,
   "metadata": {},
   "outputs": [],
   "source": [
    "scores_bra = []\n",
    "scores_ste = []\n",
    "\n",
    "# Looping for each episode\n",
    "for e in range(400):\n",
    "    # Initializes the state\n",
    "    current_state = reset()\n",
    "    rewards_bra = []\n",
    "    rewards_ste = []\n",
    "    \n",
    "    learning_rate = get_learning_rate(e)\n",
    "    epsilon = 1/(e +1) \n",
    "    \n",
    "    # Looping for each step\n",
    "    for j in range(running_time//time_interval):\n",
    "        # Choose A from S\n",
    "        action = choose_action(epsilon,current_state)\n",
    "        # Take action\n",
    "        obs , reward = env(action , list(current_state))\n",
    "        rewards_bra.append(reward[5])\n",
    "        rewards_ste.append(reward[6])\n",
    "        \n",
    "        new_state = obs\n",
    "        \n",
    "        current_state5 = (current_state[5],current_state[5+8])\n",
    "        new_state5 = (new_state[5],new_state[5+8])\n",
    "        # Update Q(S,A)\n",
    "        Q_table_brake[current_state5][int(action[5])] += (learning_rate * \n",
    "                                        (reward[5] \n",
    "                                         + discount * np.max(Q_table_brake[new_state5]) \n",
    "                                         - Q_table_brake[current_state5][int(action[5])]))\n",
    "        \n",
    "        current_state6 = (current_state[6],current_state[6+8])\n",
    "        new_state6 = (new_state[6],new_state[6+8])\n",
    "        # Update Q(S,A)\n",
    "        Q_table_steering[current_state6][int(action[6])] += (learning_rate * \n",
    "                                        (reward[6] \n",
    "                                         + discount * np.max(Q_table_steering[new_state6]) \n",
    "                                         - Q_table_steering[current_state6][int(action[6])]))\n",
    "        \n",
    "        \n",
    "        current_state = new_state\n",
    "       \n",
    "    scores_bra.append(sum(rewards_bra))\n",
    "    scores_ste.append(sum(rewards_ste))\n"
   ]
  },
  {
   "cell_type": "code",
   "execution_count": 16,
   "metadata": {},
   "outputs": [
    {
     "data": {
      "image/png": "[encoded data removed]",
      "text/plain": [
       "<Figure size 432x288 with 1 Axes>"
      ]
     },
     "metadata": {
      "needs_background": "light"
     },
     "output_type": "display_data"
    }
   ],
   "source": [
    "# Plot the policy performance\n",
    "fig = plt.figure()\n",
    "ax = fig.add_subplot(111)\n",
    "x = np.arange(1, len(scores_bra) + 1)\n",
    "y = scores_bra\n",
    "plt.scatter(x, y, marker='x', c=y)\n",
    "fit = np.polyfit(x, y, deg=4)\n",
    "p = np.poly1d(fit) \n",
    "plt.plot(x,p(x),\"r--\") \n",
    "plt.ylabel('Score')\n",
    "plt.xlabel('Episode #')\n",
    "plt.title(' performance for brake')\n",
    "plt.show()"
   ]
  },
  {
   "cell_type": "code",
   "execution_count": 17,
   "metadata": {},
   "outputs": [
    {
     "data": {
      "image/png": "[encoded data removed]",
      "text/plain": [
       "<Figure size 432x288 with 1 Axes>"
      ]
     },
     "metadata": {
      "needs_background": "light"
     },
     "output_type": "display_data"
    }
   ],
   "source": [
    "import matplotlib.pyplot as plt\n",
    "# Plot the policy performance\n",
    "fig = plt.figure()\n",
    "ax = fig.add_subplot(111)\n",
    "x = np.arange(1, len(scores_ste) + 1)\n",
    "y = scores_ste\n",
    "plt.scatter(x, y, marker='x', c=y)\n",
    "fit = np.polyfit(x, y, deg=4)\n",
    "p = np.poly1d(fit) \n",
    "plt.plot(x,p(x),\"r--\") \n",
    "plt.ylabel('Score')\n",
    "plt.xlabel('Episode #')\n",
    "plt.title(' performance for steering wheel')\n",
    "plt.show()"
   ]
  },
  {
   "cell_type": "code",
   "execution_count": 24,
   "metadata": {},
   "outputs": [],
   "source": [
    "def ac (current_state):\n",
    "    action = np.zeros(8)\n",
    "    action[5] = np.argmax(Q_table_brake[(current_state[5],current_state[5+8])])\n",
    "    action[6] = np.argmax(Q_table_steering[(current_state[6],current_state[6+8])])\n",
    "    return action"
   ]
  },
  {
   "cell_type": "code",
   "execution_count": 25,
   "metadata": {},
   "outputs": [
    {
     "name": "stdout",
     "output_type": "stream",
     "text": [
      " 780 :  276\n",
      " 770 :  7\n",
      " 750 :  3\n",
      " 730 :  2\n",
      " 765 :  5\n",
      " 775 :  14\n",
      " 720 :  1\n",
      " 745 :  2\n",
      " 760 :  5\n",
      " 755 :  3\n",
      " 740 :  1\n"
     ]
    }
   ],
   "source": [
    "#brake\n",
    "time_replace = []\n",
    "current_state = reset()\n",
    "action = np.zeros(8)\n",
    "for j in range(50000):\n",
    "    action[[5,6]] = max(ac(current_state)[[5,6]])\n",
    "    if action[5] ==1:\n",
    "        time_replace.append(current_state[5])\n",
    "    obs , r = env(action,list(current_state))\n",
    "    #print (current_state[5],current_state[6] ,action[5],r[5],obs[5] )\n",
    "    current_state = obs\n",
    "CountFrequency(time_replace)"
   ]
  },
  {
   "cell_type": "code",
   "execution_count": 21,
   "metadata": {},
   "outputs": [
    {
     "name": "stdout",
     "output_type": "stream",
     "text": [
      " 780 :  171\n",
      " 870 :  7\n",
      " 865 :  25\n",
      " 860 :  4\n"
     ]
    }
   ],
   "source": [
    "#steering\n",
    "time_replace = []\n",
    "current_state = reset()\n",
    "action = np.zeros(8)\n",
    "#for j in range(20000):\n",
    "for j in range(50000):\n",
    "    action[[5,6]] = max(ac(current_state)[[5,6]])\n",
    "    if action[6] ==1:\n",
    "        time_replace.append(current_state[6])\n",
    "    obs , r = env(action,list(current_state))\n",
    "    #print (current_state[6] ,action[6],r[6],obs[6] )\n",
    "    current_state = obs\n",
    "CountFrequency(time_replace)"
   ]
  },
  {
   "cell_type": "markdown",
   "metadata": {},
   "source": [
    "# Tire and Wheel rim and motor and shifting gears"
   ]
  },
  {
   "cell_type": "code",
   "execution_count": 18,
   "metadata": {},
   "outputs": [],
   "source": [
    "scores_tir = []\n",
    "scores_whe = []\n",
    "scores_mot= []\n",
    "scores_gea= []\n",
    "# Looping for each episode\n",
    "for e in range(300):\n",
    "    # Initializes the state\n",
    "    current_state = reset()\n",
    "    rewards_tir = []\n",
    "    rewards_whe = []\n",
    "    rewards_mot = []\n",
    "    rewards_gea = []\n",
    "    learning_rate = get_learning_rate(e)\n",
    "    epsilon = 1/(e +1) \n",
    "    \n",
    "    # Looping for each step\n",
    "    for j in range(running_time//time_interval):\n",
    "        # Choose A from S\n",
    "        action = choose_action(epsilon,current_state)\n",
    "        # Take action\n",
    "        obs , reward = env(action , list(current_state))\n",
    "        rewards_tir.append(reward[0])\n",
    "        rewards_whe.append(reward[2])\n",
    "        rewards_mot.append(reward[4])\n",
    "        rewards_gea.append(reward[7])\n",
    "        \n",
    "        new_state = obs\n",
    "        \n",
    "        current_state0 = (current_state[0],current_state[0+8])\n",
    "        new_state0 = (new_state[0],new_state[0+8])\n",
    "        # Update Q(S,A)\n",
    "        Q_table_tire[current_state0][int(action[0])] += (learning_rate * \n",
    "                                        (reward[0] \n",
    "                                         + discount * np.max(Q_table_tire[new_state0]) \n",
    "                                         - Q_table_tire[current_state0][int(action[0])]))\n",
    "        \n",
    "        current_state2 = (current_state[2],current_state[2+8])\n",
    "        new_state2 = (new_state[2],new_state[2+8])\n",
    "        # Update Q(S,A)\n",
    "        Q_table_wheel[current_state2][int(action[2])] += (learning_rate * \n",
    "                                        (reward[2] \n",
    "                                         + discount * np.max(Q_table_wheel[new_state2]) \n",
    "                                         - Q_table_wheel[current_state2][int(action[2])]))\n",
    "        \n",
    "        current_state4 = (current_state[4],current_state[4+8])\n",
    "        new_state4 = (new_state[4],new_state[4+8])\n",
    "        # Update Q(S,A)\n",
    "        Q_table_motor[current_state4][int(action[4])] += (learning_rate * \n",
    "                                        (reward[4] \n",
    "                                         + discount * np.max(Q_table_motor[new_state4]) \n",
    "                                         - Q_table_motor[current_state4][int(action[4])]))\n",
    "        \n",
    "        current_state7 = (current_state[7],current_state[7+8])\n",
    "        new_state7 = (new_state[7],new_state[7+8])\n",
    "        # Update Q(S,A)\n",
    "        Q_table_gears[current_state7][int(action[7])] += (learning_rate * \n",
    "                                        (reward[7] \n",
    "                                         + discount * np.max(Q_table_gears[new_state7]) \n",
    "                                         - Q_table_gears[current_state7][int(action[7])]))\n",
    "        \n",
    "        \n",
    "        current_state = new_state\n",
    "     \n",
    "    scores_tir.append(sum(rewards_tir))\n",
    "    scores_whe.append(sum(rewards_whe))                 \n",
    "    scores_mot.append(sum(rewards_mot))\n",
    "    scores_gea.append(sum(rewards_gea))"
   ]
  },
  {
   "cell_type": "code",
   "execution_count": 19,
   "metadata": {},
   "outputs": [
    {
     "data": {
      "image/png": "[encoded data removed]",
      "text/plain": [
       "<Figure size 432x288 with 1 Axes>"
      ]
     },
     "metadata": {
      "needs_background": "light"
     },
     "output_type": "display_data"
    }
   ],
   "source": [
    "# Plot the policy performance\n",
    "fig = plt.figure()\n",
    "ax = fig.add_subplot(111)\n",
    "x = np.arange(1, len(scores_tir) + 1)\n",
    "y = scores_tir\n",
    "plt.scatter(x, y, marker='x', c=y)\n",
    "fit = np.polyfit(x, y, deg=4)\n",
    "p = np.poly1d(fit) \n",
    "plt.plot(x,p(x),\"r--\") \n",
    "plt.ylabel('Score')\n",
    "plt.xlabel('Episode #')\n",
    "plt.title(' performance for tire ')\n",
    "plt.show()"
   ]
  },
  {
   "cell_type": "code",
   "execution_count": 20,
   "metadata": {},
   "outputs": [
    {
     "data": {
      "image/png": "[encoded data removed]",
      "text/plain": [
       "<Figure size 432x288 with 1 Axes>"
      ]
     },
     "metadata": {
      "needs_background": "light"
     },
     "output_type": "display_data"
    }
   ],
   "source": [
    "# Plot the policy performance\n",
    "fig = plt.figure()\n",
    "ax = fig.add_subplot(111)\n",
    "x = np.arange(1, len(scores_whe) + 1)\n",
    "y = scores_whe\n",
    "plt.scatter(x, y, marker='x', c=y)\n",
    "fit = np.polyfit(x, y, deg=4)\n",
    "p = np.poly1d(fit) \n",
    "plt.plot(x,p(x),\"r--\") \n",
    "plt.ylabel('Score')\n",
    "plt.xlabel('Episode #')\n",
    "plt.title(' performance for wheel rim ')\n",
    "plt.show()"
   ]
  },
  {
   "cell_type": "code",
   "execution_count": 21,
   "metadata": {},
   "outputs": [
    {
     "data": {
      "image/png": "[encoded data removed]",
      "text/plain": [
       "<Figure size 432x288 with 1 Axes>"
      ]
     },
     "metadata": {
      "needs_background": "light"
     },
     "output_type": "display_data"
    }
   ],
   "source": [
    "# Plot the policy performance\n",
    "fig = plt.figure()\n",
    "ax = fig.add_subplot(111)\n",
    "x = np.arange(1, len(scores_mot) + 1)\n",
    "y = scores_mot\n",
    "plt.scatter(x, y, marker='x', c=y)\n",
    "fit = np.polyfit(x, y, deg=4)\n",
    "p = np.poly1d(fit) \n",
    "plt.plot(x,p(x),\"r--\") \n",
    "plt.ylabel('Score')\n",
    "plt.xlabel('Episode #')\n",
    "plt.title(' performance for motor ')\n",
    "plt.show()"
   ]
  },
  {
   "cell_type": "code",
   "execution_count": 22,
   "metadata": {},
   "outputs": [
    {
     "data": {
      "image/png": "[encoded data removed]",
      "text/plain": [
       "<Figure size 432x288 with 1 Axes>"
      ]
     },
     "metadata": {
      "needs_background": "light"
     },
     "output_type": "display_data"
    }
   ],
   "source": [
    "# Plot the policy performance\n",
    "fig = plt.figure()\n",
    "ax = fig.add_subplot(111)\n",
    "x = np.arange(1, len(scores_gea) + 1)\n",
    "y = scores_gea\n",
    "plt.scatter(x, y, marker='x', c=y)\n",
    "fit = np.polyfit(x, y, deg=4)\n",
    "p = np.poly1d(fit) \n",
    "plt.plot(x,p(x),\"r--\") \n",
    "plt.ylabel('Score')\n",
    "plt.xlabel('Episode #')\n",
    "plt.title(' performance for shifting gears ')\n",
    "plt.show()"
   ]
  },
  {
   "cell_type": "code",
   "execution_count": 50,
   "metadata": {},
   "outputs": [],
   "source": [
    "def ac (current_state):\n",
    "    action = np.zeros(8)\n",
    "    action[0] = np.argmax( Q_table_tire[(current_state[0],current_state[0+8])])\n",
    "    action[2] = np.argmax(Q_table_wheel[(current_state[2],current_state[2+8])])\n",
    "    action[4] = np.argmax(Q_table_motor[(current_state[4],current_state[4+8])])\n",
    "    action[2] = np.argmax(Q_table_gears[(current_state[7],current_state[7+8])])\n",
    "    return action"
   ]
  },
  {
   "cell_type": "code",
   "execution_count": 32,
   "metadata": {},
   "outputs": [
    {
     "name": "stdout",
     "output_type": "stream",
     "text": [
      " 680 :  8\n",
      " 715 :  75\n",
      " 720 :  64\n",
      " 685 :  6\n",
      " 710 :  71\n",
      " 700 :  26\n",
      " 725 :  17\n",
      " 695 :  18\n",
      " 675 :  2\n",
      " 690 :  11\n",
      " 705 :  46\n",
      " 670 :  1\n",
      " 660 :  1\n",
      " 730 :  3\n"
     ]
    }
   ],
   "source": [
    "#tire\n",
    "time_replace = []\n",
    "current_state = reset()\n",
    "action = np.zeros(8)\n",
    "for j in range(50000):\n",
    "    action[[0,2]] = max(ac(current_state)[[0,2]])\n",
    "    if action[0] ==1 :\n",
    "        time_replace.append(current_state[0])\n",
    "        \n",
    "    obs , r = env(action,list(current_state))\n",
    "    #print (current_state[0] ,action[0],r[0],obs[0] )\n",
    "    current_state = obs\n",
    "CountFrequency(time_replace)"
   ]
  },
  {
   "cell_type": "code",
   "execution_count": 34,
   "metadata": {},
   "outputs": [
    {
     "name": "stdout",
     "output_type": "stream",
     "text": [
      " 340 :  712\n",
      " 680 :  6\n"
     ]
    }
   ],
   "source": [
    "#wheel rim \n",
    "time_replace = []\n",
    "current_state = reset()\n",
    "action = np.zeros(8)\n",
    "for j in range(50000):\n",
    "    action = np.zeros(8)\n",
    "    action[[4,2]] = max(ac(current_state)[[4,2]])\n",
    "    if action[2] ==1 :\n",
    "        time_replace.append(current_state[2])\n",
    "    obs , r = env(action,list(current_state))\n",
    "    #print (current_state[2] ,action[[2,4]],r[2],obs[2] )\n",
    "    current_state = obs\n",
    "CountFrequency(time_replace)"
   ]
  },
  {
   "cell_type": "code",
   "execution_count": 47,
   "metadata": {},
   "outputs": [
    {
     "name": "stdout",
     "output_type": "stream",
     "text": [
      " 340 :  715\n",
      " 335 :  9\n"
     ]
    }
   ],
   "source": [
    "#motor\n",
    "time_replace = []\n",
    "current_state = reset()\n",
    "action = np.zeros(8)\n",
    "for j in range(50000):\n",
    "    action[[4,2]] = max(ac(current_state)[[4,2]])\n",
    "    if action[4] ==1:\n",
    "        time_replace.append(current_state[4])\n",
    "        \n",
    "    obs , r = env(action,list(current_state))\n",
    "    #print (current_state[4] ,action[4],r[4],obs[4] )\n",
    "    current_state = obs\n",
    "CountFrequency(time_replace)"
   ]
  },
  {
   "cell_type": "code",
   "execution_count": 53,
   "metadata": {},
   "outputs": [
    {
     "name": "stdout",
     "output_type": "stream",
     "text": [
      " 680 :  364\n"
     ]
    }
   ],
   "source": [
    "#shifting gears\n",
    "time_replace = []\n",
    "current_state = reset()\n",
    "action = np.zeros(8)\n",
    "for j in range(50000):\n",
    "    action[[7,2]] = max(ac(current_state)[[7,2]])\n",
    "    if action[7] ==1:\n",
    "        time_replace.append(current_state[7])\n",
    "        \n",
    "    obs , r = env(action,list(current_state))\n",
    "    #print (current_state[7] ,action[7],r[7],obs[7] )\n",
    "    current_state = obs\n",
    "CountFrequency(time_replace)"
   ]
  },
  {
   "cell_type": "code",
   "execution_count": null,
   "metadata": {},
   "outputs": [],
   "source": []
  }
 ],
 "metadata": {
  "kernelspec": {
   "display_name": "Python 3",
   "language": "python",
   "name": "python3"
  },
  "language_info": {
   "codemirror_mode": {
    "name": "ipython",
    "version": 3
   },
   "file_extension": ".py",
   "mimetype": "text/x-python",
   "name": "python",
   "nbconvert_exporter": "python",
   "pygments_lexer": "ipython3",
   "version": "3.8.3"
  }
 },
 "nbformat": 4,
 "nbformat_minor": 4
}
